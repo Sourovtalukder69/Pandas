{
 "cells": [
  {
   "cell_type": "code",
   "execution_count": null,
   "metadata": {},
   "outputs": [],
   "source": [
    "import pandas as pd \n",
    "import numpy  as np "
   ]
  },
  {
   "cell_type": "code",
   "execution_count": null,
   "metadata": {},
   "outputs": [],
   "source": [
    "# String problem\n",
    "titanic = pd.read_csv('titanic.csv')\n",
    "# find lastnames with start and end character vowel\n",
    "titanic[titanic['lastname'].str.contains('^[^aeiouAEIOU].+[^aeiouAEIOU]$')]\n",
    "titanic"
   ]
  },
  {
   "cell_type": "code",
   "execution_count": null,
   "metadata": {},
   "outputs": [],
   "source": [
    "# making Datetime series By numpy \n",
    "date = np.array('2024-01-06', dtype = np.datetime64)\n",
    "pd.Series(date + np.arange(12))"
   ]
  },
  {
   "cell_type": "code",
   "execution_count": null,
   "metadata": {},
   "outputs": [],
   "source": [
    "# editing values\n",
    "y = pd.Series([1, 2, 3, 4, 5, 6, 7, 8, 19])\n",
    "y[0:3] = [100, 90, 50]\n",
    "y"
   ]
  },
  {
   "cell_type": "code",
   "execution_count": null,
   "metadata": {},
   "outputs": [],
   "source": [
    "# membership operator\n",
    "movies = pd.read_csv('bollywood.csv', index_col='movie')\n",
    "'2 States (2014 film)' in movies"
   ]
  },
  {
   "cell_type": "code",
   "execution_count": null,
   "metadata": {},
   "outputs": [],
   "source": [
    "# astype ,# between, # clip\n",
    "# drop_duplicates drop_duplicates(keep='last'/'First')\n",
    "# isnull\n",
    "# dropna\n",
    "# fillna\n",
    "# isin\n",
    "# apply  = subs.apply(lambda x:'good day' if x > subs.mean() else 'bad day')\n",
    "# copy\n"
   ]
  },
  {
   "cell_type": "code",
   "execution_count": null,
   "metadata": {},
   "outputs": [],
   "source": [
    "students.rename(columns={'marks':'percent','package':'lpa'},inplace=True)"
   ]
  },
  {
   "cell_type": "code",
   "execution_count": null,
   "metadata": {},
   "outputs": [],
   "source": [
    "# rank(series)\n",
    "batsman = pd.read_csv('batsman_runs_ipl.csv')\n",
    "batsman.head()\n",
    "batsman['batting_rank'] = batsman['batsman_run'].rank(ascending=False)\n",
    "batsman.sort_values('batting_rank')"
   ]
  },
  {
   "cell_type": "code",
   "execution_count": null,
   "metadata": {},
   "outputs": [],
   "source": [
    "students.dropna(how='any')\n",
    "students.dropna(subset=['name','college'])"
   ]
  },
  {
   "cell_type": "code",
   "execution_count": null,
   "metadata": {},
   "outputs": [],
   "source": [
    "genres = movies.groupby('Genre')\n",
    "# genres.first()\n",
    "# genres.last()\n",
    "genres.nth(6) # which number row want to see for each group"
   ]
  },
  {
   "cell_type": "code",
   "execution_count": null,
   "metadata": {},
   "outputs": [],
   "source": [
    "# Totally represent a group\n",
    "genres.get_group('Fantasy')\n",
    "movies[movies['Genre'] == 'Fantasy']\n",
    "genres.sample(2,replace=True)"
   ]
  },
  {
   "cell_type": "code",
   "execution_count": null,
   "metadata": {},
   "outputs": [],
   "source": [
    "# agg method \n",
    "# passing dict : Acessing for each groups columns with my choice type data\n",
    "movies.groupby('Star1').agg({\n",
    "    'Runtime':['min', 'max'],\n",
    "    'Gross':'max',\n",
    "    'Metascore':['min', 'max']\n",
    "})\n",
    "# passing list : for every column of groups my choices data\n",
    "genres.agg(['min','max','mean','sum'])"
   ]
  },
  {
   "cell_type": "code",
   "execution_count": null,
   "metadata": {},
   "outputs": [],
   "source": [
    "def rank_movie(group):\n",
    "  group['genre_rank'] = group['IMDB_Rating'].rank(ascending=False)\n",
    "  return group\n",
    "genres.apply(rank_movie)"
   ]
  },
  {
   "cell_type": "code",
   "execution_count": null,
   "metadata": {},
   "outputs": [],
   "source": [
    "# looping on groups\n",
    "# find the highest rated movie of each genre\n",
    "df = pd.DataFrame(columns=movies.columns)\n",
    "for group,data in genres:\n",
    "  df = df.append(data[data['IMDB_Rating'] == data['IMDB_Rating'].max()])\n",
    "\n",
    "df"
   ]
  },
  {
   "cell_type": "code",
   "execution_count": null,
   "metadata": {},
   "outputs": [],
   "source": [
    "# find normalized IMDB rating group wise\n",
    "\n",
    "def normal(group):\n",
    "  group['norm_rating'] = (group['IMDB_Rating'] - group['IMDB_Rating'].min())/(group['IMDB_Rating'].max() - group['IMDB_Rating'].min())\n",
    "  return group\n",
    "\n",
    "genres.apply(normal)\n",
    "\n",
    "\n",
    "# short way\n",
    "def rank_on(group):\n",
    "    x = group['IMDB_Rating']\n",
    "    group['new_rank'] = (x - x.min())/(x.max()-x.min())\n",
    "    return group\n",
    "\n",
    "genres.apply(rank_on)"
   ]
  },
  {
   "cell_type": "code",
   "execution_count": null,
   "metadata": {},
   "outputs": [],
   "source": [
    "# 8. Print student name -> partner name for all enrolled students\n",
    "# self join\n",
    "students.merge(students,how='inner',left_on='partner',right_on='student_id')[['name_x','name_y']]"
   ]
  },
  {
   "cell_type": "code",
   "execution_count": null,
   "metadata": {},
   "outputs": [],
   "source": [
    "# how to create multiindex object\n",
    "# 1. pd.MultiIndex.from_tuples()\n",
    "index_val = [('cse',2019),('cse',2020),('cse',2021),('cse',2022),('ece',2019),('ece',2020),('ece',2021),('ece',2022)]\n",
    "multiindex = pd.MultiIndex.from_tuples(index_val)\n",
    "multiindex.levels[1]\n",
    "# 2. pd.MultiIndex.from_product()\n",
    "pd.MultiIndex.from_product([['cse','ece'],[2019,2020,2021,2022]])\n",
    "multiindex"
   ]
  },
  {
   "cell_type": "code",
   "execution_count": null,
   "metadata": {},
   "outputs": [],
   "source": [
    "df2 = pd.DataFrame(\n",
    "    [\n",
    "        [1,2,0,0],\n",
    "        [3,4,0,0],\n",
    "        [5,6,0,0],\n",
    "        [7,8,0,0],\n",
    "    ],\n",
    "    index = [2019,2020,2021,2022],\n",
    "    columns = pd.MultiIndex.from_product([['delhi','mumbai'],['avg_package','students']])\n",
    ")\n",
    "df2"
   ]
  },
  {
   "cell_type": "code",
   "execution_count": null,
   "metadata": {},
   "outputs": [],
   "source": [
    "branch_df3 = pd.DataFrame(\n",
    "    [\n",
    "        [1,2,0,0],\n",
    "        [3,4,0,0],\n",
    "        [5,6,0,0],\n",
    "        [7,8,0,0],\n",
    "        [9,10,0,0],\n",
    "        [11,12,0,0],\n",
    "        [13,14,0,0],\n",
    "        [15,16,0,0],\n",
    "    ],\n",
    "    index = multiindex,\n",
    "    columns = pd.MultiIndex.from_product([['delhi','mumbai'],['avg_package','students']])\n",
    ")\n",
    "\n",
    "branch_df3\n",
    "# multiple\n",
    "branch_df3.iloc[0:5:2] # Default \n",
    "branch_df3.loc[('cse',2019):('ece',2020):2] # Actual\n",
    "branch_df3.sort_index(level=0,ascending=[False])\n",
    "\n",
    "# transopose rows to column and column to row\n",
    "branch_df3.transpose()\n",
    "# swap indexes\n",
    "branch_df3.swaplevel(axis=0).unstack()"
   ]
  },
  {
   "cell_type": "code",
   "execution_count": null,
   "metadata": {},
   "outputs": [],
   "source": [
    "confirm = confirm.melt(id_vars=['Province/State','Country/Region','Lat','Long'], var_name='Date', value_name='No_of death')\n",
    "confirm"
   ]
  },
  {
   "cell_type": "code",
   "execution_count": null,
   "metadata": {},
   "outputs": [],
   "source": [
    "df = sns.load_dataset('tips')\n",
    "df.pivot_table(index='sex', columns='smoker', values='total_bill', aggfunc='sum')"
   ]
  }
 ],
 "metadata": {
  "kernelspec": {
   "display_name": "Python 3",
   "language": "python",
   "name": "python3"
  },
  "language_info": {
   "codemirror_mode": {
    "name": "ipython",
    "version": 3
   },
   "file_extension": ".py",
   "mimetype": "text/x-python",
   "name": "python",
   "nbconvert_exporter": "python",
   "pygments_lexer": "ipython3",
   "version": "3.11.4"
  }
 },
 "nbformat": 4,
 "nbformat_minor": 2
}
